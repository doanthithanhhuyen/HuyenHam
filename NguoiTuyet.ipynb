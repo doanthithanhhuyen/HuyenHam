{
 "cells": [
  {
   "cell_type": "code",
   "execution_count": null,
   "id": "4d60a9d9",
   "metadata": {},
   "outputs": [],
   "source": [
    "import turtle\n",
    "tl = turtle.Turtle()\n",
    "tl.shape(\"turtle\")\n",
    "tl.penup()\n",
    "tl.goto(0,100)\n",
    "tl.pendown()\n",
    "tl.circle(60,360)\n",
    "tl.penup()\n",
    "tl.goto(-30,160)\n",
    "tl.pendown()\n",
    "tl.fillcolor('red')\n",
    "tl.begin_fill()\n",
    "tl.circle(5,360)\n",
    "tl.end_fill()\n",
    "tl.penup()\n",
    "tl.goto(0,150)\n",
    "tl.pendown()\n",
    "tl.forward(30)\n",
    "tl.penup()\n",
    "tl.goto(30,160)\n",
    "tl.pendown()\n",
    "tl.fillcolor('red')\n",
    "tl.begin_fill()\n",
    "tl.circle(5,360)\n",
    "tl.end_fill()\n",
    "tl.penup()\n",
    "tl.goto(0,-120)\n",
    "tl.pendown()\n",
    "tl.circle(110,360)\n",
    "tl.penup()\n",
    "tl.goto(90,10)\n",
    "tl.pendown()\n",
    "tl.left(30)\n",
    "tl.forward(50)\n",
    "tl.penup()\n",
    "tl.goto(-90,10)\n",
    "tl.pendown()\n",
    "tl.left(130)\n",
    "tl.forward(50)\n",
    "turtle.done()\n"
   ]
  },
  {
   "cell_type": "code",
   "execution_count": null,
   "id": "e599b8db",
   "metadata": {},
   "outputs": [],
   "source": []
  }
 ],
 "metadata": {
  "kernelspec": {
   "display_name": "Python 3 (ipykernel)",
   "language": "python",
   "name": "python3"
  },
  "language_info": {
   "codemirror_mode": {
    "name": "ipython",
    "version": 3
   },
   "file_extension": ".py",
   "mimetype": "text/x-python",
   "name": "python",
   "nbconvert_exporter": "python",
   "pygments_lexer": "ipython3",
   "version": "3.9.7"
  }
 },
 "nbformat": 4,
 "nbformat_minor": 5
}
